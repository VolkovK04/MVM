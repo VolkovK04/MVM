{
 "cells": [
  {
   "cell_type": "markdown",
   "metadata": {},
   "source": [
    "# Задача №6"
   ]
  },
  {
   "cell_type": "code",
   "execution_count": 2,
   "metadata": {},
   "outputs": [],
   "source": [
    "%matplotlib inline\n",
    "import numpy as np\n",
    "import matplotlib.pyplot as plt"
   ]
  },
  {
   "cell_type": "markdown",
   "metadata": {},
   "source": [
    "![image.png](images/problem6_1.png)"
   ]
  },
  {
   "cell_type": "code",
   "execution_count": 5,
   "metadata": {},
   "outputs": [],
   "source": [
    "def rk4(ode_function, initial_value, time_step, time_span):\n",
    "    time_points = [0]\n",
    "    values = [initial_value]\n",
    "    num_steps = int(time_span / time_step)\n",
    "    for _ in range(num_steps):\n",
    "        t = time_points[-1]\n",
    "        y = values[-1]\n",
    "        k1 = ode_function(t, y)\n",
    "        k2 = ode_function(t + time_step / 2, y + time_step * k1 / 2)\n",
    "        k3 = ode_function(t + time_step / 2, y + time_step * k2 / 2)\n",
    "        k4 = ode_function(t + time_step, y + time_step * k3)\n",
    "        next_value = y + (time_step / 6) * (k1 + 2 * k2 + 2 * k3 + k4)\n",
    "        time_points.append(t + time_step)\n",
    "        values.append(next_value)\n",
    "    return time_points, values"
   ]
  },
  {
   "cell_type": "markdown",
   "metadata": {},
   "source": []
  },
  {
   "cell_type": "code",
   "execution_count": 9,
   "metadata": {},
   "outputs": [
    {
     "ename": "TypeError",
     "evalue": "bad operand type for unary -: 'list'",
     "output_type": "error",
     "traceback": [
      "\u001b[1;31m---------------------------------------------------------------------------\u001b[0m",
      "\u001b[1;31mTypeError\u001b[0m                                 Traceback (most recent call last)",
      "Cell \u001b[1;32mIn[9], line 20\u001b[0m\n\u001b[0;32m     12\u001b[0m \u001b[38;5;66;03m# print(time_points)\u001b[39;00m\n\u001b[0;32m     13\u001b[0m \u001b[38;5;66;03m# print(values)\u001b[39;00m\n\u001b[0;32m     14\u001b[0m \n\u001b[0;32m     15\u001b[0m \u001b[38;5;66;03m# for i in [0.1, 0.01]:\u001b[39;00m\n\u001b[0;32m     16\u001b[0m \u001b[38;5;66;03m#     time_points, values = rk4(f, initial_value, i, 10)\u001b[39;00m\n\u001b[0;32m     17\u001b[0m \u001b[38;5;66;03m#     print(abs(f_actual(time_points[-1]) - values[-1]))\u001b[39;00m\n\u001b[0;32m     19\u001b[0m plt\u001b[38;5;241m.\u001b[39mplot(time_points, values, label\u001b[38;5;241m=\u001b[39m\u001b[38;5;124m\"\u001b[39m\u001b[38;5;124mrk4\u001b[39m\u001b[38;5;124m\"\u001b[39m)\n\u001b[1;32m---> 20\u001b[0m plt\u001b[38;5;241m.\u001b[39mplot(time_points, \u001b[43mf_actual\u001b[49m\u001b[43m(\u001b[49m\u001b[43mtime_points\u001b[49m\u001b[43m)\u001b[49m, label\u001b[38;5;241m=\u001b[39m\u001b[38;5;124m\"\u001b[39m\u001b[38;5;124mrk4\u001b[39m\u001b[38;5;124m\"\u001b[39m)\n\u001b[0;32m     21\u001b[0m plt\u001b[38;5;241m.\u001b[39mlegend()\n\u001b[0;32m     22\u001b[0m plt\u001b[38;5;241m.\u001b[39mshow()\n",
      "Cell \u001b[1;32mIn[9], line 7\u001b[0m, in \u001b[0;36mf_actual\u001b[1;34m(y)\u001b[0m\n\u001b[0;32m      6\u001b[0m \u001b[38;5;28;01mdef\u001b[39;00m \u001b[38;5;21mf_actual\u001b[39m(y):\n\u001b[1;32m----> 7\u001b[0m     \u001b[38;5;28;01mreturn\u001b[39;00m np\u001b[38;5;241m.\u001b[39mexp(\u001b[38;5;241;43m-\u001b[39;49m\u001b[43my\u001b[49m) \u001b[38;5;241m*\u001b[39m np\u001b[38;5;241m.\u001b[39mexp(np\u001b[38;5;241m.\u001b[39mlog(initial_value))\n",
      "\u001b[1;31mTypeError\u001b[0m: bad operand type for unary -: 'list'"
     ]
    },
    {
     "data": {
      "image/png": "[encoded data removed]",
      "text/plain": [
       "<Figure size 640x480 with 1 Axes>"
      ]
     },
     "metadata": {},
     "output_type": "display_data"
    }
   ],
   "source": [
    "def f(t, y):\n",
    "    return -y\n",
    "\n",
    "initial_value = 1\n",
    "\n",
    "def f_actual(y):\n",
    "    return np.exp(-y) * np.exp(np.log(initial_value))\n",
    "\n",
    "\n",
    "time_points, values = rk4(f, initial_value, 0.1, 10)\n",
    "\n",
    "# print(time_points)\n",
    "# print(values)\n",
    "\n",
    "# for i in [0.1, 0.01]:\n",
    "#     time_points, values = rk4(f, initial_value, i, 10)\n",
    "#     print(abs(f_actual(time_points[-1]) - values[-1]))\n",
    "\n",
    "plt.plot(time_points, values, label=\"rk4\")\n",
    "plt.plot(time_points, f_actual(time_points), label=\"rk4\")\n",
    "plt.legend()\n",
    "plt.show()\n",
    "# plt.plot(time_points, [f_actual(y) for y in time_points], label=\"actual\")\n",
    "f_actual_arr = [f_actual(y) for y in time_points]\n",
    "plt.plot(time_points, [abs(values[i] - f_actual_arr[i])/f_actual_arr[i] for i in range(len(values))], label=\"error\")\n",
    "plt.legend()\n",
    "plt.show()\n"
   ]
  }
 ],
 "metadata": {
  "kernelspec": {
   "display_name": "Python 3",
   "language": "python",
   "name": "python3"
  },
  "language_info": {
   "codemirror_mode": {
    "name": "ipython",
    "version": 3
   },
   "file_extension": ".py",
   "mimetype": "text/x-python",
   "name": "python",
   "nbconvert_exporter": "python",
   "pygments_lexer": "ipython3",
   "version": "3.10.6"
  }
 },
 "nbformat": 4,
 "nbformat_minor": 2
}
