{
 "cells": [
  {
   "cell_type": "markdown",
   "metadata": {},
   "source": [
    "# Задача №1"
   ]
  },
  {
   "cell_type": "markdown",
   "metadata": {},
   "source": [
    "![image.png](images/problem1.png)"
   ]
  },
  {
   "cell_type": "code",
   "execution_count": 1,
   "metadata": {},
   "outputs": [],
   "source": [
    "import numpy as np\n",
    "import matplotlib.pyplot as plt"
   ]
  },
  {
   "cell_type": "code",
   "execution_count": 6,
   "metadata": {},
   "outputs": [],
   "source": [
    "# epsillon32 = np.float32(1.1920928955078125e-07)\n",
    "# epsillon64 = np.float64(2.220446049250313e-16)\n",
    "\n",
    "def get_eps(T):\n",
    "    epsillon = T(1.0)\n",
    "    i = 0\n",
    "    while (T(1) + epsillon / T(2)) != 1:\n",
    "        epsillon /= T(2)\n",
    "        i += 1\n",
    "    return epsillon, i\n"
   ]
  },
  {
   "cell_type": "code",
   "execution_count": 15,
   "metadata": {},
   "outputs": [],
   "source": [
    "def find_max_min_exponent(T):\n",
    "    max_exp = 0\n",
    "    min_exp = 0\n",
    "\n",
    "    value = T(1.0)\n",
    "    while np.isfinite(value):\n",
    "        max_exp += 1\n",
    "        value *= T(2)\n",
    "\n",
    "    value = T(1.0)\n",
    "    while value > 0:\n",
    "        min_exp -= 1\n",
    "        value /= T(2)\n",
    "\n",
    "    return max_exp - 1, min_exp + 1"
   ]
  },
  {
   "cell_type": "code",
   "execution_count": 16,
   "metadata": {},
   "outputs": [
    {
     "name": "stderr",
     "output_type": "stream",
     "text": [
      "C:\\Users\\volkov\\AppData\\Local\\Temp\\ipykernel_31088\\1920776743.py:8: RuntimeWarning: overflow encountered in scalar multiply\n",
      "  value *= T(2)\n"
     ]
    },
    {
     "data": {
      "text/plain": [
       "((127, -149), (1023, -1074))"
      ]
     },
     "execution_count": 16,
     "metadata": {},
     "output_type": "execute_result"
    }
   ],
   "source": [
    "find_max_min_exponent(np.float32), find_max_min_exponent(np.float64)"
   ]
  },
  {
   "cell_type": "code",
   "execution_count": 3,
   "metadata": {},
   "outputs": [
    {
     "data": {
      "text/plain": [
       "(1.1920929e-07, 23)"
      ]
     },
     "execution_count": 3,
     "metadata": {},
     "output_type": "execute_result"
    }
   ],
   "source": [
    "esp32, i32 = get_eps(np.float32)\n",
    "esp32, i32"
   ]
  },
  {
   "cell_type": "code",
   "execution_count": 4,
   "metadata": {},
   "outputs": [
    {
     "data": {
      "text/plain": [
       "(2.220446049250313e-16, 52)"
      ]
     },
     "execution_count": 4,
     "metadata": {},
     "output_type": "execute_result"
    }
   ],
   "source": [
    "eps64, i64 = get_eps(np.float64)\n",
    "eps64, i64"
   ]
  },
  {
   "cell_type": "markdown",
   "metadata": {},
   "source": [
    "\n",
    "Для float32:\n",
    "\n",
    "    Мантисса: 24 бита (23 явных битов + 1 скрытый бит).\n",
    "    Экспонента: 8 бит.\n",
    "    Диапазон значений экспоненты: от −126 до +127 (для нормализованных чисел).\n",
    "\n",
    "Машинный эпсилон ε для одинарной точности можно вычислить как 2^(−23)≈1.1920929×10^(−7)."
   ]
  },
  {
   "cell_type": "markdown",
   "metadata": {},
   "source": [
    "Для float64:\n",
    "\n",
    "    Мантисса: 53 бита (52 явных битов + 1 скрытый бит).\n",
    "    Экспонента: 11 бит.\n",
    "    Диапазон значений экспоненты: от −1022 до +1023 (для нормализованных чисел).\n",
    "\n",
    "Машинный эпсилон ε для двойной точности можно вычислить как 2^(−52)≈2.220446049250313×10^(−16)"
   ]
  },
  {
   "cell_type": "code",
   "execution_count": 26,
   "metadata": {},
   "outputs": [
    {
     "data": {
      "text/plain": [
       "1.0"
      ]
     },
     "execution_count": 26,
     "metadata": {},
     "output_type": "execute_result"
    }
   ],
   "source": [
    "f32 = np.float32\n",
    "f32(1)"
   ]
  },
  {
   "cell_type": "code",
   "execution_count": 27,
   "metadata": {},
   "outputs": [
    {
     "data": {
      "text/plain": [
       "1.0"
      ]
     },
     "execution_count": 27,
     "metadata": {},
     "output_type": "execute_result"
    }
   ],
   "source": [
    "f32(1) + f32(esp32)/f32(2)"
   ]
  },
  {
   "cell_type": "code",
   "execution_count": 30,
   "metadata": {},
   "outputs": [
    {
     "data": {
      "text/plain": [
       "1.0000001"
      ]
     },
     "execution_count": 30,
     "metadata": {},
     "output_type": "execute_result"
    }
   ],
   "source": [
    "f32(1) + f32(esp32)"
   ]
  },
  {
   "cell_type": "code",
   "execution_count": 36,
   "metadata": {},
   "outputs": [
    {
     "data": {
      "text/plain": [
       "1.0000002"
      ]
     },
     "execution_count": 36,
     "metadata": {},
     "output_type": "execute_result"
    }
   ],
   "source": [
    "f32(1) + f32(esp32) + f32(esp32)/f32(2)"
   ]
  },
  {
   "cell_type": "markdown",
   "metadata": {},
   "source": [
    "1. $1$: Это просто единица.\n",
    "\n",
    "2. $1 + \\frac{\\varepsilon}{2} \\approx 1 + 5.9604645 \\times 10^{-8}$. \n",
    "Из-за ограниченной точности это число будет округлено до 1, то есть $1 + \\frac{\\varepsilon}{2} = 1$.\n",
    "\n",
    "3. $1 + \\varepsilon \\approx 1 + 1.1920929 \\times 10^{-7}$.\n",
    "Это число будет отличаться от 1 на величину $\\varepsilon$, то есть $1 + \\varepsilon \\neq 1$.\n",
    "\n",
    "4. $1 + \\varepsilon + \\frac{\\varepsilon}{2} \\approx 1 + 1.7881393 \\times 10^{-7}$.\n",
    "Это число будет отличаться от 1 на величину $\\varepsilon$ и более, то есть $1 + \\varepsilon + \\frac{\\varepsilon}{2} \\neq 1 + \\varepsilon$, так как в данном случае округление будет в большую сторону.\n"
   ]
  }
 ],
 "metadata": {
  "kernelspec": {
   "display_name": "Python 3",
   "language": "python",
   "name": "python3"
  },
  "language_info": {
   "codemirror_mode": {
    "name": "ipython",
    "version": 3
   },
   "file_extension": ".py",
   "mimetype": "text/x-python",
   "name": "python",
   "nbconvert_exporter": "python",
   "pygments_lexer": "ipython3",
   "version": "3.10.6"
  }
 },
 "nbformat": 4,
 "nbformat_minor": 2
}
